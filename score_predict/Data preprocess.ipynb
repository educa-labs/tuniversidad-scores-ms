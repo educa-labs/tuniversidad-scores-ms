{
 "cells": [
  {
   "cell_type": "code",
   "execution_count": 13,
   "metadata": {
    "collapsed": true
   },
   "outputs": [],
   "source": [
    "import pandas as pd\n",
    "import numpy as np\n",
    "from datetime import datetime"
   ]
  },
  {
   "cell_type": "code",
   "execution_count": 14,
   "metadata": {
    "collapsed": true
   },
   "outputs": [],
   "source": [
    "data = pd.read_csv('tests.csv')\n",
    "users = data.user_id.unique().astype(int)\n",
    "users.sort()\n",
    "users = users[1:len(users)]"
   ]
  },
  {
   "cell_type": "code",
   "execution_count": 16,
   "metadata": {},
   "outputs": [],
   "source": [
    "total = []\n",
    "psu = datetime(2016,11,28)\n",
    "for user in users:\n",
    "    user_tests = data[data['user_id']==user]\n",
    "    total.append(len(user_tests))\n",
    "    if len(data) > 1:\n",
    "        filtered = user_tests[['subject_id','result','date']]\n",
    "        filtered.columns = ['subject_id','score','date']\n",
    "        subjects = filtered.subject_id.unique()\n",
    "        for sub in subjects:\n",
    "            filtered_sub = filtered[filtered['subject_id'] == sub]\n",
    "            if len(filtered_sub) > 1:\n",
    "                min_date = datetime.strptime(filtered.date.min().split(\" \")[0],'%Y-%m-%d')\n",
    "                max_date = datetime.strptime(filtered.date.max().split(\" \")[0],'%Y-%m-%d')\n",
    "                if min_date != max_date:\n",
    "                    psu_day =(psu - min_date).days \n",
    "                    if psu_day < 0  or psu_day > 366:\n",
    "                        continue\n",
    "                    filtered_sub = filtered_sub[['score','date']]\n",
    "                    filtered_sub.loc[:,'psu_day'] = pd.Series(np.array(list(map(lambda x: psu_day, range(filtered_sub.shape[0])))),index=filtered_sub.index)\n",
    "                    filtered_sub['date'] = filtered_sub.apply((lambda x : (datetime.strptime(x['date'].split(\" \")[0],'%Y-%m-%d')-min_date).days),axis=1)\n",
    "                    filtered_sub.to_csv(\"data/{},{}.csv\".format(user,sub),index=False)\n",
    "                    \n",
    "total = np.array(total)"
   ]
  },
  {
   "cell_type": "code",
   "execution_count": null,
   "metadata": {
    "collapsed": true
   },
   "outputs": [],
   "source": []
  }
 ],
 "metadata": {
  "kernelspec": {
   "display_name": "Python 3",
   "language": "python",
   "name": "python3"
  },
  "language_info": {
   "codemirror_mode": {
    "name": "ipython",
    "version": 3
   },
   "file_extension": ".py",
   "mimetype": "text/x-python",
   "name": "python",
   "nbconvert_exporter": "python",
   "pygments_lexer": "ipython3",
   "version": "3.5.2"
  }
 },
 "nbformat": 4,
 "nbformat_minor": 2
}
